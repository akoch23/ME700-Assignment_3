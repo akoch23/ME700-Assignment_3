{
 "cells": [
  {
   "cell_type": "markdown",
   "metadata": {},
   "source": [
    "### **Example 1: Find the Square Root of 2**\n",
    "\n",
    "We know that $x^2 - 2 = 0$ has a root at $\\sqrt{2}$. We can use the bisection method to find this root."
   ]
  },
  {
   "cell_type": "code",
   "execution_count": null,
   "metadata": {},
   "outputs": [],
   "source": [
    "from bisectionmethod import bisection_method as bim\n",
    "import os\n",
    "from pathlib import Path\n",
    "\n",
    "# Define the function\n",
    "def f(x):\n",
    "    return x**2 - 2\n",
    "\n",
    "# Define the bounds\n",
    "a = 1.0  # Lower bound\n",
    "b = 2.0  # Upper bound\n",
    "\n",
    "# Call the bisection method\n",
    "result = bim.run_bisection_method(fcn=f, a=a, b=b, tol_input=1e-9, tol_output=1e-30)\n",
    "\n",
    "# Print the result\n",
    "print(\"Root:\", result[\"solution\"])\n",
    "print(\"Number of iterations:\", result[\"num_iter\"])\n",
    "\n",
    "# Plot the results\n",
    "fig_name_with_path = Path(os.getcwd()).resolve().joinpath(\"figs\").resolve().joinpath(\"tutorial_1_bisection_results.png\").resolve()\n",
    "bim.plot_bisection_results(result, fig_name_with_path)\n",
    "fig_name_with_path = Path(os.getcwd()).resolve().joinpath(\"figs\").resolve().joinpath(\"tutorial_1_function_vis.png\").resolve()\n",
    "bim.plot_function_with_inset(f, result, fig_name_with_path)"
   ]
  },
